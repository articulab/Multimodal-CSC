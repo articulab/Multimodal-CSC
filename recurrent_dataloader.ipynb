{
 "cells": [
  {
   "cell_type": "code",
   "execution_count": 1,
   "metadata": {},
   "outputs": [],
   "source": [
    "import json\n",
    "import pandas as pd\n",
    "import numpy as np\n",
    "import torch\n",
    "import torch.nn as nn\n",
    "from torch.utils.data import Dataset, DataLoader\n",
    "from random import shuffle, choices\n",
    "import matplotlib.pyplot as plt"
   ]
  },
  {
   "cell_type": "code",
   "execution_count": 2,
   "metadata": {},
   "outputs": [],
   "source": [
    "from GRU_pipeline import DataHolder, paths\n",
    "DH = DataHolder(**paths)"
   ]
  },
  {
   "cell_type": "code",
   "execution_count": 3,
   "metadata": {},
   "outputs": [
    {
     "data": {
      "text/plain": [
       "Int64Index([8196, 2053, 8206, 8219, 2079, 4127, 2083, 2094, 2095, 2096,\n",
       "            ...\n",
       "            2004, 4055, 2011, 8161, 2028, 2034, 8953, 4884, 6135, 2045],\n",
       "           dtype='int64', length=798)"
      ]
     },
     "execution_count": 3,
     "metadata": {},
     "output_type": "execute_result"
    }
   ],
   "source": [
    "DH._unused_index"
   ]
  },
  {
   "cell_type": "code",
   "execution_count": 4,
   "metadata": {},
   "outputs": [],
   "source": [
    "#import embeds\n",
    "path_to_embeds = \"data/final/text/embeds\"\n",
    "embeds = pd.read_feather(path_to_embeds)\n",
    "\n",
    "#import openface data\n",
    "openface_spk_1_path = \"data/final/openface/openface_speaker_1_05_by_05\"\n",
    "openface_spk_2_path = \"data/final/openface/openface_speaker_2_05_by_05\"\n",
    "openface_spk_1 = pd.read_feather(openface_spk_1_path)\n",
    "openface_spk_2 = pd.read_feather(openface_spk_2_path)\n",
    "\n",
    "openface_spk_1_dict_path = \"data/final/openface/openface_speaker_1_dict_utt_to_frame.txt\"\n",
    "openface_spk_2_dict_path = \"data/final/openface/openface_speaker_2_dict_utt_to_frame.txt\"\n",
    "with open(openface_spk_1_dict_path, \"r\") as fp:\n",
    "    openface_spk_1_dict = json.load(fp)\n",
    "with open(openface_spk_2_dict_path, \"r\") as fp:\n",
    "    openface_spk_2_dict = json.load(fp)\n",
    "\n",
    "#import opensmile data\n",
    "opensmile_spk_1_path = \"data/final/opensmile/opensmile_speaker_1_05_by_05\"\n",
    "opensmile_spk_2_path = \"data/final/opensmile/opensmile_speaker_2_05_by_05\"\n",
    "opensmile_spk_1 = pd.read_feather(opensmile_spk_1_path)\n",
    "opensmile_spk_2 = pd.read_feather(opensmile_spk_2_path)\n",
    "\n",
    "opensmile_spk_1_dict_path = \"data/final/opensmile/opensmile_speaker_1_dict_utt_to_frame.txt\"\n",
    "opensmile_spk_2_dict_path = \"data/final/opensmile/opensmile_speaker_2_dict_utt_to_frame.txt\"\n",
    "with open(opensmile_spk_1_dict_path, \"r\") as fp:\n",
    "    opensmile_spk_1_dict = json.load(fp)\n",
    "with open(opensmile_spk_2_dict_path, \"r\") as fp:\n",
    "    opensmile_spk_2_dict = json.load(fp)\n",
    "\n",
    "#filter dicts\n",
    "def filter_dict(dic:dict, max_len=30)->dict:\n",
    "    \"\"\"Filters on 0<len(value)<max_len\"\"\"\n",
    "    return {key:value for (key,value) in dic.items() if len(value) in range(1,max_len)}\n",
    "\n",
    "openface_spk_1_dict = filter_dict(openface_spk_1_dict)\n",
    "openface_spk_2_dict = filter_dict(openface_spk_2_dict)\n",
    "opensmile_spk_1_dict = filter_dict(opensmile_spk_1_dict)\n",
    "opensmile_spk_2_dict = filter_dict(opensmile_spk_2_dict)"
   ]
  },
  {
   "cell_type": "code",
   "execution_count": 5,
   "metadata": {},
   "outputs": [],
   "source": [
    "train_test = DH.stratify_embeds(speaker=1)\n",
    "train_dict = {k:v for (k,v) in DH.openface_spk_1_dict.items() if int(k) in train_test['train']}\n",
    "test_dict = {k:v for (k,v) in DH.openface_spk_1_dict.items() if int(k) in train_test['test']}"
   ]
  },
  {
   "cell_type": "code",
   "execution_count": 6,
   "metadata": {},
   "outputs": [],
   "source": [
    "X = torch.from_numpy(DH.openface_spk_1[DH.openface_col].values).to(torch.float32)\n",
    "y = torch.from_numpy(DH.embeds[DH.target_col].values).to(torch.float32)"
   ]
  },
  {
   "cell_type": "code",
   "execution_count": 7,
   "metadata": {},
   "outputs": [],
   "source": [
    "from GRU_pipeline import dicDataset, pad_collate\n",
    "\n",
    "train_set = dicDataset(train_dict,X,y)\n",
    "test_set = dicDataset(test_dict,X,y)"
   ]
  },
  {
   "cell_type": "code",
   "execution_count": 8,
   "metadata": {},
   "outputs": [
    {
     "data": {
      "text/plain": [
       "torch.Size([10134, 5])"
      ]
     },
     "execution_count": 8,
     "metadata": {},
     "output_type": "execute_result"
    }
   ],
   "source": [
    "y.shape"
   ]
  },
  {
   "cell_type": "code",
   "execution_count": 12,
   "metadata": {},
   "outputs": [],
   "source": [
    "from torch.nn.utils.rnn import pad_packed_sequence\n",
    "\n",
    "class GRUModel(nn.Module):\n",
    "    def __init__(self, input_dim=17, hidden_dim=8, layer_dim=3, output_dim=5, dropout_prob=.1):\n",
    "        super(GRUModel, self).__init__()\n",
    "\n",
    "        self.gru = nn.GRU(\n",
    "            input_dim, hidden_dim, layer_dim, dropout=dropout_prob, batch_first = True\n",
    "        )\n",
    "\n",
    "        self.fc = nn.Linear(hidden_dim, output_dim)\n",
    "        self.s = nn.Sigmoid()\n",
    "\n",
    "    def forward(self, x_packed):\n",
    "\n",
    "        x, hidden = self.gru(x_packed)\n",
    "\n",
    "        x,l = pad_packed_sequence(x, batch_first=True)\n",
    "\n",
    "        out = torch.stack([x[i][l[i]-1] for i in range(x.shape[0])])\n",
    "\n",
    "        out = self.fc(out)\n",
    "        out = self.s(out)\n",
    "\n",
    "        return out"
   ]
  },
  {
   "cell_type": "code",
   "execution_count": 37,
   "metadata": {},
   "outputs": [],
   "source": [
    "#model = GRUModel()\n",
    "\n",
    "dataloader = DataLoader(train_set, batch_size = 100, shuffle = True, collate_fn = pad_collate)\n",
    "testloader = DataLoader(train_set, batch_size = len(test_dict), shuffle = True, collate_fn = pad_collate)\n",
    "\n",
    "optimizer = torch.optim.Adam(model.parameters(), lr=0.001)\n",
    "criterion = nn.CrossEntropyLoss()\n",
    "\n",
    "def eval_on_test():\n",
    "    model.eval()\n",
    "    tot_loss=0.0\n",
    "    for batch in testloader:\n",
    "        with torch.no_grad():\n",
    "            pred = model(batch['features'])\n",
    "        loss = criterion(batch['targets'], pred)\n",
    "        tot_loss += loss / pred.shape[0]\n",
    "    return loss\n",
    "\n",
    "hist_train_loss = []\n",
    "hist_test_loss = []\n",
    "\n",
    "for epoch in range(30):\n",
    "    model.train()\n",
    "\n",
    "    epoch_loss = 0.0\n",
    "\n",
    "    for batch in dataloader:\n",
    "\n",
    "        pred = model(batch['features'])\n",
    "        loss = criterion(batch['targets'], pred)\n",
    "\n",
    "        epoch_loss += loss / pred.shape[0]\n",
    "\n",
    "        optimizer.zero_grad()\n",
    "        loss.backward()\n",
    "        optimizer.step()\n",
    "\n",
    "    hist_train_loss.append(loss)\n",
    "    \n",
    "    hist_test_loss.append(eval_on_test())\n",
    "\n",
    "hist_train_loss = [x.detach().numpy() for x in hist_train_loss]\n",
    "hist_test_loss = [x.detach().numpy() for x in hist_test_loss]"
   ]
  },
  {
   "cell_type": "code",
   "execution_count": 38,
   "metadata": {},
   "outputs": [
    {
     "data": {
      "image/png": "[encoded data removed]",
      "text/plain": [
       "<Figure size 640x480 with 1 Axes>"
      ]
     },
     "metadata": {},
     "output_type": "display_data"
    }
   ],
   "source": [
    "plt.plot(hist_train_loss, label='train')\n",
    "plt.plot(hist_test_loss, label='test')\n",
    "plt.legend()\n",
    "plt.show()"
   ]
  },
  {
   "cell_type": "code",
   "execution_count": 7,
   "metadata": {},
   "outputs": [
    {
     "ename": "NameError",
     "evalue": "name 'openface_index_A' is not defined",
     "output_type": "error",
     "traceback": [
      "\u001b[0;31m---------------------------------------------------------------------------\u001b[0m",
      "\u001b[0;31mNameError\u001b[0m                                 Traceback (most recent call last)",
      "Cell \u001b[0;32mIn[7], line 55\u001b[0m\n\u001b[1;32m     47\u001b[0m     \u001b[39mreturn\u001b[39;00m output\n\u001b[1;32m     49\u001b[0m \u001b[39m#train_dataset = monDataset(training_dict_A, X_train, y_train) #input 23 features, output 5 cats\u001b[39;00m\n\u001b[1;32m     50\u001b[0m \u001b[39m#test_dataset = monDataset(test_dict_A, X_test, y_test) #input 23 features, output 5 cats\u001b[39;00m\n\u001b[1;32m     51\u001b[0m \u001b[39m#\u001b[39;00m\n\u001b[1;32m     52\u001b[0m \u001b[39m#train_dataloader = DataLoader(train_dataset, batch_size = 8, shuffle = True, collate_fn = pad_collate)\u001b[39;00m\n\u001b[1;32m     53\u001b[0m \u001b[39m#test_dataloader = DataLoader(test_dataset, batch_size = 8, shuffle = True, collate_fn = pad_collate)\u001b[39;00m\n\u001b[0;32m---> 55\u001b[0m DS \u001b[39m=\u001b[39m monDataset(openface_index_A,X,y) \u001b[39m#getittem gives dict\u001b[39;00m\n\u001b[1;32m     57\u001b[0m DL \u001b[39m=\u001b[39m DataLoader(DS, batch_size \u001b[39m=\u001b[39m \u001b[39m30\u001b[39m, shuffle \u001b[39m=\u001b[39m \u001b[39mTrue\u001b[39;00m, collate_fn \u001b[39m=\u001b[39m pad_collate)\n",
      "\u001b[0;31mNameError\u001b[0m: name 'openface_index_A' is not defined"
     ]
    }
   ],
   "source": [
    "from torch.utils.data import DataLoader\n",
    "from torch.nn.utils.rnn import pack_padded_sequence, pad_sequence\n",
    "\n",
    "class monDataset(Dataset):\n",
    "    def __init__(self, dic, X, y, max_len=None):\n",
    "\n",
    "        self.index = list(dic.keys())\n",
    "        self.dic = dic\n",
    "        self.X = X\n",
    "        self.Y = y\n",
    "        self.keys = list(dic.keys())\n",
    "        #if not max_len : max_len = min(33,max([len(v) for v in dic.keys()]))\n",
    "        #self.max_len_tensor = torch.zeros((max_len,X.shape[1]))\n",
    "    \n",
    "    def __len__(self):\n",
    "        return len(self.dic)\n",
    "\n",
    "    def __getitem__(self, idx):\n",
    "\n",
    "        if torch.is_tensor(idx):\n",
    "            idx = idx.tolist()\n",
    "\n",
    "        features_indexes = self.dic[str(self.keys[idx])]\n",
    "        features = X[features_indexes, :]\n",
    "\n",
    "        # features_length = len(features_indexes)\n",
    "        targets = torch.tensor(y[idx])\n",
    "        # print(features)\n",
    "        # print(features_length)\n",
    "        # print(targets)\n",
    "        # features_length, \n",
    "        \n",
    "        #output = {\n",
    "        #    'features':features,\n",
    "        #    'targets':targets,\n",
    "        #    'lenght':len(features_indexes)\n",
    "        #}\n",
    "\n",
    "        return features, targets, len(features_indexes)\n",
    "\n",
    "def pad_collate(batch):\n",
    "    f,t,l = [*zip(*batch)]\n",
    "    output = {\n",
    "        'features':pack_padded_sequence(pad_sequence(f,batch_first=True), l, batch_first=True, enforce_sorted=False),\n",
    "        'targets':torch.stack(t)\n",
    "    }\n",
    "    return output\n",
    "\n",
    "#train_dataset = monDataset(training_dict_A, X_train, y_train) #input 23 features, output 5 cats\n",
    "#test_dataset = monDataset(test_dict_A, X_test, y_test) #input 23 features, output 5 cats\n",
    "#\n",
    "#train_dataloader = DataLoader(train_dataset, batch_size = 8, shuffle = True, collate_fn = pad_collate)\n",
    "#test_dataloader = DataLoader(test_dataset, batch_size = 8, shuffle = True, collate_fn = pad_collate)\n",
    "\n",
    "DS = monDataset(openface_index_A,X,y) #getittem gives dict\n",
    "\n",
    "DL = DataLoader(DS, batch_size = 30, shuffle = True, collate_fn = pad_collate)"
   ]
  },
  {
   "cell_type": "code",
   "execution_count": null,
   "metadata": {},
   "outputs": [],
   "source": [
    "def train_model(model, DS, train_set, test_set, class_weights, batch_size=20, num_epochs=10, lr=0.01):\n",
    "\n",
    "    train_loss=[]\n",
    "    test_loss=[]\n",
    "\n",
    "    optimizer = torch.optim.Adam(model.parameters(), lr=lr)\n",
    "    criterion = nn.CrossEntropyLoss()\n",
    "\n",
    "    for epoch in range(num_epochs):\n",
    "\n",
    "        shuffle(train)\n",
    "\n",
    "        model.train()\n",
    "\n",
    "        epoch_average_loss = 0.0\n",
    "\n",
    "        batch_loss=0.0\n",
    "\n",
    "        for i in train_set:\n",
    "\n",
    "            x,y = DS[i]\n",
    "\n",
    "            if len(x)==0:continue\n",
    "\n",
    "            y_pre = model(x)\n",
    "            batch_loss+=criterion(y_pre, y)\n",
    "\n",
    "            if i%batch_size==0:\n",
    "                optimizer.zero_grad()\n",
    "                batch_loss.backward()\n",
    "                optimizer.step()\n",
    "                epoch_average_loss += batch_loss.item() * batch_size / len(train_set)\n",
    "                batch_loss=0.0\n",
    "\n",
    "        train_loss.append(epoch_average_loss)\n",
    "        test_loss.append(test_model(model, criterion, DS, test_set))\n",
    "\n",
    "    return train_loss, test_loss\n",
    "\n",
    "def test_model(model,criterion, DS, test_set):\n",
    "    model.eval()\n",
    "    loss = 0.0\n",
    "    for i in test_set:\n",
    "        x,y = DS[i]\n",
    "        if len(x)==0:continue\n",
    "        y_pre = model(x)\n",
    "        loss+=criterion(y_pre, y)\n",
    "    return loss"
   ]
  },
  {
   "cell_type": "code",
   "execution_count": null,
   "metadata": {},
   "outputs": [],
   "source": [
    "def train_model(model, train_loader, test_loader, class_weights, device, batch_size = 8, num_epochs=10, lr=0.01):\n",
    "\n",
    "    train_loss=[]\n",
    "    test_loss=[]\n",
    "\n",
    "    optimizer = torch.optim.Adam(model.parameters(), lr=lr)\n",
    "    criterion = nn.CrossEntropyLoss()\n",
    "\n",
    "    for epoch in range(num_epochs):\n",
    "\n",
    "        model.train()\n",
    "\n",
    "        epoch_average_loss = 0.0\n",
    "\n",
    "        for data in train_loader:\n",
    "\n",
    "            features, targets = data\n",
    "            targets = torch.tensor(targets, dtype = torch.long).to(device)\n",
    "            features = features.to(device)\n",
    "            output = model(features)\n",
    "\n",
    "            batch_loss = criterion(output, targets)\n",
    "\n",
    "            optimizer.zero_grad()\n",
    "            batch_loss.backward()\n",
    "            optimizer.step()\n",
    "            epoch_average_loss += batch_loss.item() * batch_size / len(train_dataloader)\n",
    "\n",
    "        train_loss.append(epoch_average_loss)\n",
    "        test_loss.append(test_model(model, criterion, test_loader, lr, len(train_dataloader)))\n",
    "\n",
    "    return train_loss, test_loss\n",
    "\n",
    "def test_model(model,criterion, test_dataloader, lr, batch_size = 8, train_len = 0):\n",
    "    model.eval()\n",
    "    optimizer = torch.optim.Adam(model.parameters(), lr=lr)\n",
    "    criterion = nn.CrossEntropyLoss()\n",
    "    epoch_average_loss = 0.0\n",
    "    for i, data in enumerate(test_dataloader):\n",
    "        features, targets = data\n",
    "        targets = torch.tensor(targets, dtype = torch.long).to(device)\n",
    "        features = features.to(device)\n",
    "        output = model(features)\n",
    "        batch_loss = criterion(output, targets)\n",
    "\n",
    "        optimizer.zero_grad()\n",
    "        batch_loss.backward()\n",
    "        optimizer.step()\n",
    "        epoch_average_loss += batch_loss.item() * batch_size / len(test_dataloader)\n",
    "    return epoch_average_loss"
   ]
  },
  {
   "cell_type": "code",
   "execution_count": null,
   "metadata": {},
   "outputs": [],
   "source": [
    "from models import AudioGRU"
   ]
  },
  {
   "cell_type": "code",
   "execution_count": null,
   "metadata": {},
   "outputs": [
    {
     "name": "stderr",
     "output_type": "stream",
     "text": [
      "/var/folders/l7/1yhnrkcx2f79z5dph4rg3h540000gn/T/ipykernel_5217/4181217194.py:24: UserWarning: To copy construct from a tensor, it is recommended to use sourceTensor.clone().detach() or sourceTensor.clone().detach().requires_grad_(True), rather than torch.tensor(sourceTensor).\n",
      "  targets = torch.tensor(y[idx])\n",
      "/var/folders/l7/1yhnrkcx2f79z5dph4rg3h540000gn/T/ipykernel_5217/295638334.py:18: UserWarning: To copy construct from a tensor, it is recommended to use sourceTensor.clone().detach() or sourceTensor.clone().detach().requires_grad_(True), rather than torch.tensor(sourceTensor).\n",
      "  targets = torch.tensor(targets, dtype = torch.long).to(device)\n",
      "/var/folders/l7/1yhnrkcx2f79z5dph4rg3h540000gn/T/ipykernel_5217/295638334.py:41: UserWarning: To copy construct from a tensor, it is recommended to use sourceTensor.clone().detach() or sourceTensor.clone().detach().requires_grad_(True), rather than torch.tensor(sourceTensor).\n",
      "  targets = torch.tensor(targets, dtype = torch.long).to(device)\n"
     ]
    }
   ],
   "source": [
    "device = torch.device(\"mps\")\n",
    "\n",
    "rnn = AudioGRU().to(device)\n",
    "train_loss, test_loss = train_model(rnn, train_dataloader, test_dataloader, class_weights, device, batch_size = 8, num_epochs = 20, lr = 0.02)"
   ]
  },
  {
   "cell_type": "code",
   "execution_count": null,
   "metadata": {},
   "outputs": [
    {
     "data": {
      "image/png": "[encoded data removed]",
      "text/plain": [
       "<Figure size 640x480 with 1 Axes>"
      ]
     },
     "metadata": {},
     "output_type": "display_data"
    }
   ],
   "source": [
    "plt.plot(test_loss, label='test')\n",
    "plt.legend()\n",
    "plt.show()"
   ]
  },
  {
   "cell_type": "code",
   "execution_count": null,
   "metadata": {},
   "outputs": [
    {
     "data": {
      "image/png": "[encoded data removed]",
      "text/plain": [
       "<Figure size 640x480 with 1 Axes>"
      ]
     },
     "metadata": {},
     "output_type": "display_data"
    }
   ],
   "source": [
    "plt.plot(train_loss, label='train')\n",
    "plt.legend()\n",
    "plt.show()"
   ]
  },
  {
   "cell_type": "code",
   "execution_count": null,
   "metadata": {},
   "outputs": [
    {
     "data": {
      "text/plain": [
       "0.06666666666666667"
      ]
     },
     "execution_count": 1,
     "metadata": {},
     "output_type": "execute_result"
    }
   ],
   "source": [
    "1/15"
   ]
  }
 ],
 "metadata": {
  "kernelspec": {
   "display_name": "projet_ewen",
   "language": "python",
   "name": "python3"
  },
  "language_info": {
   "codemirror_mode": {
    "name": "ipython",
    "version": 3
   },
   "file_extension": ".py",
   "mimetype": "text/x-python",
   "name": "python",
   "nbconvert_exporter": "python",
   "pygments_lexer": "ipython3",
   "version": "3.10.8"
  },
  "orig_nbformat": 4,
  "vscode": {
   "interpreter": {
    "hash": "443553a8d873c13169fd000a429b31bc1f64e807d9cb579432974010f58ecf64"
   }
  }
 },
 "nbformat": 4,
 "nbformat_minor": 2
}
