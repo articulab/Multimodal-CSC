{
  "cells": [
    {
      "cell_type": "code",
      "execution_count": 28,
      "metadata": {
        "id": "BfKGbcNZeE7y"
      },
      "outputs": [],
      "source": [
        "import sys\n",
        "sys.path.append('/content/drive/MyDrive/multimodal sc')"
      ]
    },
    {
      "cell_type": "code",
      "execution_count": 29,
      "metadata": {
        "id": "9iJWe9TjFGYI"
      },
      "outputs": [],
      "source": [
        "import torch.nn as nn\n",
        "import numpy as np\n",
        "import torch\n",
        "import pandas as pd\n",
        "from GRU_pipeline import DataHolder, dicDataset, pad_collate, Pipeline\n",
        "from torch.nn.utils.rnn import pad_packed_sequence"
      ]
    },
    {
      "cell_type": "code",
      "source": [
        "class GRUModel(nn.Module):\n",
        "    def __init__(self, input_dim=17, hidden_dim=32, layer_dim=2, output_dim=5, dropout_prob=.1, bidirectional=False):\n",
        "        super(GRUModel, self).__init__()\n",
        "\n",
        "        self.gru = nn.GRU(\n",
        "            input_dim, hidden_dim, layer_dim, dropout=dropout_prob, batch_first = True, bidirectional=bidirectional\n",
        "        )\n",
        "\n",
        "        if bidirectional : self.fc = nn.Linear(hidden_dim*2, output_dim)\n",
        "        else: self.fc = nn.Linear(hidden_dim, output_dim)\n",
        "\n",
        "    def forward(self, x_packed):\n",
        "\n",
        "        x, hidden = self.gru(x_packed)\n",
        "\n",
        "        x,l = pad_packed_sequence(x, batch_first=True)\n",
        "\n",
        "        out = torch.stack([x[i][l[i]-1] for i in range(x.shape[0])])\n",
        "\n",
        "        out = self.fc(out)\n",
        "\n",
        "        return out"
      ],
      "metadata": {
        "id": "KuaTYBb5fIEu"
      },
      "execution_count": 30,
      "outputs": []
    },
    {
      "cell_type": "code",
      "execution_count": 31,
      "metadata": {
        "id": "UNTNYXb4g8ud"
      },
      "outputs": [],
      "source": [
        "paths={\n",
        "    'path_to_embeds'            : \"/content/drive/MyDrive/multimodal sc/embeds\",\n",
        "    'openface_spk_1_path'       : \"/content/drive/MyDrive/multimodal sc/openface_speaker_1_05_by_05\",\n",
        "    'openface_spk_2_path'       : \"/content/drive/MyDrive/multimodal sc/openface_speaker_2_05_by_05\",\n",
        "    'openface_spk_1_dict_path'  : \"/content/drive/MyDrive/multimodal sc/openface_speaker_1_dict_utt_to_frame.txt\",\n",
        "    'openface_spk_2_dict_path'  : \"/content/drive/MyDrive/multimodal sc/openface_speaker_2_dict_utt_to_frame.txt\",\n",
        "    'opensmile_spk_1_path'      : \"/content/drive/MyDrive/multimodal sc/opensmile_speaker_1_05_by_05\",\n",
        "    'opensmile_spk_2_path'      : \"/content/drive/MyDrive/multimodal sc/opensmile_speaker_2_05_by_05\",\n",
        "    'opensmile_spk_1_dict_path' : \"/content/drive/MyDrive/multimodal sc/opensmile_speaker_1_dict_utt_to_frame.txt\",\n",
        "    'opensmile_spk_2_dict_path' : \"/content/drive/MyDrive/multimodal sc/opensmile_speaker_2_dict_utt_to_frame.txt\"\n",
        "}"
      ]
    },
    {
      "cell_type": "code",
      "execution_count": 32,
      "metadata": {
        "id": "Pn-_jhpZjvAr"
      },
      "outputs": [],
      "source": [
        "DH = DataHolder(**paths)\n",
        "output = DH.make_train_test_datasets(test_size = .15, val_size = .17)\n",
        "class_weights = output['class_weights'].to('cuda')\n",
        "openface_1  = output['datasets']['openface_1']\n",
        "openface_2  = output['datasets']['openface_2']\n",
        "opensmile_1 = output['datasets']['opensmile_1']\n",
        "opensmile_2 = output['datasets']['opensmile_2']\n",
        "\n",
        "def make_results(df):\n",
        "  residx = list(df.idxmax(axis=0)[:-1])\n",
        "  residx.append(df.idxmin(axis=0)[-1])\n",
        "  resval = list(df.max(axis=0)[:-1])\n",
        "  resval.append(df.min(axis=0)[-1])\n",
        "  return residx, resval\n",
        "\n",
        "def make_a_row(model_args, DH, lr, epoch):\n",
        "\n",
        "  args={\n",
        "      'model': GRUModel(**model_args),\n",
        "      'features_1':openface_1,\n",
        "      'features_2':openface_2,\n",
        "      'class_weights':class_weights\n",
        "  }\n",
        "\n",
        "  pipe = Pipeline(**args)\n",
        "  pipe.train(epoch=epoch,lr=lr, gpu=True, early_stop=True)\n",
        "  pipe.plot_losses()\n",
        "\n",
        "  result = pd.DataFrame(pipe.hist_auf1c, columns=pipe.cats)\n",
        "  result['test'] = pipe.hist_test_loss\n",
        "\n",
        "  return make_results(result)\n"
      ]
    },
    {
      "cell_type": "code",
      "source": [
        "hidden_dim_list = [4, 8, 16, 32]\n",
        "layer_dim_list = [2, 4, 8, 16]\n",
        "dropout_prob_list = [.1, .2]\n",
        "\n",
        "model_args_list = [{\n",
        "    'input_dim':17,\n",
        "    'hidden_dim':32,\n",
        "    'layer_dim':2,\n",
        "    'output_dim':5,\n",
        "    'dropout_prob': .1,\n",
        "    'bidirectional':bid }\n",
        "    for bid in [True, False]]#hidden_dim in hidden_dim_list for layer_dim in layer_dim_list for dropout in dropout_prob_list]\n",
        "  \n",
        "loss_list = [nn.MSELoss(), nn.BCELoss()]\n",
        "\n",
        "all_args = [{\n",
        "    'model_args':model_args,\n",
        "    'DH':DH,\n",
        "    'lr':1e-4,\n",
        "    'epoch':90\n",
        "} for model_args in model_args_list for i in range(20)]# for loss in loss_list for i in range(5)]"
      ],
      "metadata": {
        "id": "La2ea5cU_Ky-"
      },
      "execution_count": 33,
      "outputs": []
    },
    {
      "cell_type": "code",
      "execution_count": null,
      "metadata": {
        "id": "yc94nVbumM1o"
      },
      "outputs": [],
      "source": [
        "with open(\"/content/drive/MyDrive/multimodal sc/resultsos.txt\",'w') as f:\n",
        "  f.write(\"bidirectional,hidden_dim,layer_dim,dropout,residxSD, residxQE, residxSV, residxPR, residxHD, residexTL, resvalSD,resvalQE,resvalSV,resvalPR,resvalHD,resvalTL\\n\")\n",
        "  for i,args in enumerate(all_args):\n",
        "    bidir = args['model_args']['bidirectional']\n",
        "    hidden_dim = args['model_args']['hidden_dim']\n",
        "    layer_dim = args['model_args']['layer_dim']\n",
        "    dropout = args['model_args']['dropout_prob']\n",
        "    residx, resval = make_a_row(**args)\n",
        "    residx = ','.join([str(np.round(x,3)) for x in residx])\n",
        "    resval = ','.join([str(np.round(x,3)) for x in resval])\n",
        "    line = f\"{bidir},{hidden_dim},{layer_dim},{dropout},{residx},{resval}\\n\"\n",
        "    f.write(line)\n",
        "\n",
        "\n"
      ]
    }
  ],
  "metadata": {
    "accelerator": "GPU",
    "colab": {
      "provenance": []
    },
    "gpuClass": "standard",
    "kernelspec": {
      "display_name": "Python 3",
      "name": "python3"
    },
    "language_info": {
      "name": "python"
    }
  },
  "nbformat": 4,
  "nbformat_minor": 0
}