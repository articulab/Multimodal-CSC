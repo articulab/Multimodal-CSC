{
 "cells": [
  {
   "cell_type": "code",
   "execution_count": 26,
   "metadata": {},
   "outputs": [
    {
     "name": "stdout",
     "output_type": "stream",
     "text": [
      "/Users/ewenmichel/Desktop/Centrale/3A/SDI/Project/Multimodal-CSC\n"
     ]
    }
   ],
   "source": [
    "import pandas as pd\n",
    "import os \n",
    "print(os.getcwd())\n",
    "df_source = pd.read_csv(\"data/transcripts/whole_data_2021_2016.csv\")"
   ]
  },
  {
   "cell_type": "code",
   "execution_count": 27,
   "metadata": {},
   "outputs": [
    {
     "name": "stdout",
     "output_type": "stream",
     "text": [
      "[nan 'SV']\n",
      "[nan 'SV']\n",
      "[nan '0' 'UL' 'LPA' 'LP' 'LPP' 'not sure if this is praise']\n",
      "[nan 'LPA' 'UL' 'LPP' 'LPB' '0' 'LP']\n",
      "[nan 'SD' 'QE']\n",
      "[nan 'SD' 'QE']\n"
     ]
    }
   ],
   "source": [
    "for label in ['SV_Tutor', 'SV_Tutee', 'PR_Tutor', 'PR_Tutee', 'SD_Tutor', 'SD_Tutee']:\n",
    "    print(df_source[label].unique())"
   ]
  },
  {
   "cell_type": "code",
   "execution_count": 28,
   "metadata": {},
   "outputs": [],
   "source": [
    "# df_source[\"Time_begin_test\"] = df_source[\"Time_begin\"].apply(lambda x : pd.to_datetime(x, format = \"%M:%S.%f\")).apply(lambda x : str(x)[11:])\n",
    "# ts.strftime('%Y-%m-%d %X')"
   ]
  },
  {
   "cell_type": "code",
   "execution_count": 29,
   "metadata": {},
   "outputs": [
    {
     "data": {
      "text/plain": [
       "(array([nan, 'x'], dtype=object),\n",
       " array([nan, 'x'], dtype=object),\n",
       " array([nan, 'x'], dtype=object),\n",
       " array([nan, 'x'], dtype=object))"
      ]
     },
     "execution_count": 29,
     "metadata": {},
     "output_type": "execute_result"
    }
   ],
   "source": [
    "df_source = pd.read_csv(\"data/transcripts/whole_data_2021_2016.csv\")\n",
    "\n",
    "sd_df = df_source[(df_source[\"SD_Tutor\"] == \"SD\") | (df_source[\"SD_Tutee\"] == \"SD\")].replace(\"SD\", \"x\").fillna(\"\")\n",
    "qe_df = df_source[(df_source[\"SD_Tutor\"] == \"QE\") | (df_source[\"SD_Tutee\"] == \"QE\")].replace(\"QE\", \"x\").fillna(\"\")\n",
    "sv_df = df_source[(df_source[\"SV_Tutor\"] == \"SV\") | (df_source[\"SV_Tutee\"] == \"SV\")].replace(\"SV\", \"x\").fillna(\"\")\n",
    "pr_df = df_source[(df_source[\"PR_Tutor\"].isin(['LPA', 'UL', 'LPP', 'LPB', '0', 'LP'])) | (df_source[\"PR_Tutee\"].isin(['LPA', 'UL', 'LPP', 'LPB', '0', 'LP']))].replace(['LPA', 'UL', 'LPP', 'LPB', '0', 'LP'], \"x\").fillna(\"\")\n",
    "\n",
    "sd_df[\"SD\"] = sd_df.SD_Tutor + sd_df.SD_Tutee\n",
    "qe_df[\"QE\"] = qe_df.SD_Tutor + qe_df.SD_Tutee\n",
    "sv_df[\"SV\"] = sv_df.SV_Tutor + sv_df.SV_Tutee\n",
    "pr_df[\"PR\"] = pr_df.PR_Tutor + pr_df.PR_Tutee\n",
    "\n",
    "sd_map_dict = dict(zip(sd_df.index, sd_df[\"SD\"]))\n",
    "qe_map_dict = dict(zip(qe_df.index, qe_df[\"QE\"]))\n",
    "sv_map_dict = dict(zip(sv_df.index, sv_df[\"SV\"]))\n",
    "pr_map_dict = dict(zip(pr_df.index, pr_df[\"PR\"]))\n",
    "\n",
    "df_source[\"SD\"] = df_source.index.to_series().map(sd_map_dict)\n",
    "df_source[\"QE\"] = df_source.index.to_series().map(qe_map_dict)\n",
    "df_source[\"SV\"] = df_source.index.to_series().map(sv_map_dict)\n",
    "df_source[\"PR\"] = df_source.index.to_series().map(pr_map_dict)\n",
    "\n",
    "df_source = df_source.drop(df_source[df_source[\"SV\"] == \"xx\"].index)\n",
    "df_source[\"SD\"].unique(), df_source[\"QE\"].unique(), df_source[\"SV\"].unique(), df_source[\"PR\"].unique()"
   ]
  },
  {
   "cell_type": "code",
   "execution_count": null,
   "metadata": {},
   "outputs": [],
   "source": [
    "pd.merge(df_source,     , on = ['Dyad', 'Session', 'Period', 'P1', 'P2'])"
   ]
  },
  {
   "cell_type": "code",
   "execution_count": 60,
   "metadata": {},
   "outputs": [
    {
     "ename": "ModuleNotFoundError",
     "evalue": "No module named 'fuzzywuzzy'",
     "output_type": "error",
     "traceback": [
      "\u001b[0;31m---------------------------------------------------------------------------\u001b[0m",
      "\u001b[0;31mModuleNotFoundError\u001b[0m                       Traceback (most recent call last)",
      "Cell \u001b[0;32mIn [60], line 1\u001b[0m\n\u001b[0;32m----> 1\u001b[0m \u001b[38;5;28;01mfrom\u001b[39;00m \u001b[38;5;21;01mfuzzywuzzy\u001b[39;00m \u001b[38;5;28;01mimport\u001b[39;00m fuzz\n\u001b[1;32m      2\u001b[0m \u001b[38;5;28;01mfrom\u001b[39;00m \u001b[38;5;21;01mfuzzywuzzy\u001b[39;00m \u001b[38;5;28;01mimport\u001b[39;00m process\n\u001b[1;32m      4\u001b[0m compare_P1 \u001b[38;5;241m=\u001b[39m pd\u001b[38;5;241m.\u001b[39mMultiIndex\u001b[38;5;241m.\u001b[39mfrom_product([df_source[\u001b[38;5;124m'\u001b[39m\u001b[38;5;124mP1\u001b[39m\u001b[38;5;124m'\u001b[39m], df_target[\u001b[38;5;124m'\u001b[39m\u001b[38;5;124mP1\u001b[39m\u001b[38;5;124m'\u001b[39m]])\u001b[38;5;241m.\u001b[39mto_series()\n",
      "\u001b[0;31mModuleNotFoundError\u001b[0m: No module named 'fuzzywuzzy'"
     ]
    }
   ],
   "source": [
    "from fuzzywuzzy import fuzz\n",
    "from fuzzywuzzy import process\n",
    "\n",
    "compare_P1 = pd.MultiIndex.from_product([df_source['P1'], df_target['P1']]).to_series()\n",
    "compare_P2 = pd.MultiIndex.from_product([df_source['P2'], df_target['P2']]).to_series()\n",
    "compare_D = pd.MultiIndex.from_product([df_source['D'], df_target['D']]).to_series()\n",
    "compare_S = pd.MultiIndex.from_product([df_source['S'], df_target['S']]).to_series()\n",
    "compare_S = pd.MultiIndex.from_product([df_source['P1'], df_target['P1']]).to_series()\n",
    "compare_S = pd.MultiIndex.from_product([df_source['P1'], df_target['P1']]).to_series()\n",
    "\n",
    "comparisons = [compare_P1, compare_P2, compare_D, compare_S]\n",
    "\n",
    "def metrics(tup):\n",
    "    return pd.Series([fuzz.ratio(*tup),\n",
    "                      fuzz.token_sort_ratio(*tup)],\n",
    "                     ['ratio', 'token'])``\n",
    "\n",
    "for comp_ in comparisons:\n",
    "    comp_.apply(metrics)\n",
    "    comp_.apply(metrics).unstack().idxmax().unstack(0)\n",
    "    comp_.apply(metrics).unstack(0).idxmax().unstack(0)"
   ]
  },
  {
   "cell_type": "code",
   "execution_count": null,
   "metadata": {},
   "outputs": [],
   "source": []
  }
 ],
 "metadata": {
  "interpreter": {
   "hash": "a14988f2c8ab5e88cecfa395a5465dfc3038372d0630124ed2d8fb1e7f5e5a63"
  },
  "kernelspec": {
   "display_name": "Python 3.10.0 ('multi-modal-csc')",
   "language": "python",
   "name": "python3"
  },
  "language_info": {
   "codemirror_mode": {
    "name": "ipython",
    "version": 3
   },
   "file_extension": ".py",
   "mimetype": "text/x-python",
   "name": "python",
   "nbconvert_exporter": "python",
   "pygments_lexer": "ipython3",
   "version": "3.10.0"
  },
  "orig_nbformat": 4
 },
 "nbformat": 4,
 "nbformat_minor": 2
}
