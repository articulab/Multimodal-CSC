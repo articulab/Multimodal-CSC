{
 "cells": [
  {
   "cell_type": "code",
   "execution_count": 53,
   "metadata": {},
   "outputs": [
    {
     "name": "stdout",
     "output_type": "stream",
     "text": [
      "/Users/ewenmichel/Desktop/Centrale/3A/SDI/Project/Multimodal-CSC\n"
     ]
    }
   ],
   "source": [
    "import pandas as pd\n",
    "import os \n",
    "print(os.getcwd())\n",
    "df_source = pd.read_csv(\"data/transcripts/whole_data_2021_2016.csv\")\n",
    "df_source_tot = pd.read_csv(\"data/transcripts/2016_full_behaviors_annotation_w_hedges.csv\")"
   ]
  },
  {
   "cell_type": "code",
   "execution_count": 54,
   "metadata": {},
   "outputs": [
    {
     "name": "stdout",
     "output_type": "stream",
     "text": [
      "Index(['Unnamed: 0', 'Dyad', 'Session', 'P1', 'P2', 'Begin Time - hh:mm:ss.ms',\n",
      "       'End Time - hh:mm:ss.ms', 'Duration - hh:mm:ss.ms'],\n",
      "      dtype='object')\n",
      "10134\n"
     ]
    }
   ],
   "source": [
    "columns = pd.read_csv(\"data/transcripts/clean_D3_S1.csv\").columns\n",
    "df_time = pd.DataFrame(columns = pd.read_csv(\"data/transcripts/clean_D3_S1.csv\").columns)\n",
    "\n",
    "for file in os.listdir(\"./data/transcripts/\"):\n",
    "    if file.startswith(\"clean_\"):\n",
    "        curr_df = pd.read_csv('./data/transcripts/' + file)\n",
    "        if \"Temps de départ - hh:mm:ss.ms\" in curr_df.columns:\n",
    "            curr_df[\"Begin Time - hh:mm:ss.ms\"] = curr_df[\"Temps de départ - hh:mm:ss.ms\"]\n",
    "            curr_df = curr_df.drop(columns = [\"Temps de départ - hh:mm:ss.ms\"])\n",
    "        if 'temps de fin - hh:mm:ss.ms' in curr_df.columns:\n",
    "            curr_df['End Time - hh:mm:ss.ms'] = curr_df['temps de fin - hh:mm:ss.ms']\n",
    "            curr_df = curr_df.drop(columns = ['temps de fin - hh:mm:ss.ms'])\n",
    "        if 'Durée - hh:mm:ss.ms' in curr_df.columns:\n",
    "            curr_df['Duration - hh:mm:ss.ms'] = curr_df['Durée - hh:mm:ss.ms']\n",
    "            curr_df = curr_df.drop(columns = ['Durée - hh:mm:ss.ms'])\n",
    "        df_time = pd.concat([df_time, curr_df])\n",
    "\n",
    "        if '4_S2' in file:\n",
    "            print(curr_df.columns)\n",
    "\n",
    "df_time = df_time.drop(columns = [\"Unnamed: 0\"])\n",
    "df_time = df_time[['Dyad', 'Session', 'Begin Time - hh:mm:ss.ms', 'End Time - hh:mm:ss.ms', 'Duration - hh:mm:ss.ms', 'P1', 'P2']]\n",
    "print(len(df_time))"
   ]
  },
  {
   "cell_type": "code",
   "execution_count": 75,
   "metadata": {},
   "outputs": [],
   "source": [
    "df_source[\"Time_begin_ts\"] = pd.to_datetime(df_source[\"Time_begin\"], format = \"%M:%S.%f\")\n",
    "df_time['Time_begin_ts'] = pd.to_datetime(df_time[\"Begin Time - hh:mm:ss.ms\"], format = \"%H:%M:%S.%f\")"
   ]
  },
  {
   "cell_type": "code",
   "execution_count": 83,
   "metadata": {},
   "outputs": [
    {
     "name": "stdout",
     "output_type": "stream",
     "text": [
      "False\n"
     ]
    }
   ],
   "source": [
    "print(df_time[\"Time_begin_ts\"].iloc[0] + pd.Timedelta(seconds = 10) < df_time[\"Time_begin_ts\"].iloc[0])"
   ]
  },
  {
   "cell_type": "code",
   "execution_count": 57,
   "metadata": {},
   "outputs": [
    {
     "data": {
      "text/plain": [
       "(array([nan, 'x'], dtype=object),\n",
       " array([nan, 'x'], dtype=object),\n",
       " array([nan, 'x'], dtype=object),\n",
       " array([nan, 'x'], dtype=object))"
      ]
     },
     "execution_count": 57,
     "metadata": {},
     "output_type": "execute_result"
    }
   ],
   "source": [
    "df_source = pd.read_csv(\"data/transcripts/whole_data_2021_2016.csv\")\n",
    "\n",
    "sd_df = df_source[(df_source[\"SD_Tutor\"] == \"SD\") | (df_source[\"SD_Tutee\"] == \"SD\")].replace(\"SD\", \"x\").fillna(\"\")\n",
    "qe_df = df_source[(df_source[\"SD_Tutor\"] == \"QE\") | (df_source[\"SD_Tutee\"] == \"QE\")].replace(\"QE\", \"x\").fillna(\"\")\n",
    "sv_df = df_source[(df_source[\"SV_Tutor\"] == \"SV\") | (df_source[\"SV_Tutee\"] == \"SV\")].replace(\"SV\", \"x\").fillna(\"\")\n",
    "pr_df = df_source[(df_source[\"PR_Tutor\"].isin(['LPA', 'UL', 'LPP', 'LPB', '0', 'LP'])) | (df_source[\"PR_Tutee\"].isin(['LPA', 'UL', 'LPP', 'LPB', '0', 'LP']))].replace(['LPA', 'UL', 'LPP', 'LPB', '0', 'LP'], \"x\").fillna(\"\")\n",
    "\n",
    "sd_df[\"SD\"] = sd_df.SD_Tutor + sd_df.SD_Tutee\n",
    "qe_df[\"QE\"] = qe_df.SD_Tutor + qe_df.SD_Tutee\n",
    "sv_df[\"SV\"] = sv_df.SV_Tutor + sv_df.SV_Tutee\n",
    "pr_df[\"PR\"] = pr_df.PR_Tutor + pr_df.PR_Tutee\n",
    "\n",
    "sd_map_dict = dict(zip(sd_df.index, sd_df[\"SD\"]))\n",
    "qe_map_dict = dict(zip(qe_df.index, qe_df[\"QE\"]))\n",
    "sv_map_dict = dict(zip(sv_df.index, sv_df[\"SV\"]))\n",
    "pr_map_dict = dict(zip(pr_df.index, pr_df[\"PR\"]))\n",
    "\n",
    "df_source[\"SD\"] = df_source.index.to_series().map(sd_map_dict)\n",
    "df_source[\"QE\"] = df_source.index.to_series().map(qe_map_dict)\n",
    "df_source[\"SV\"] = df_source.index.to_series().map(sv_map_dict)\n",
    "df_source[\"PR\"] = df_source.index.to_series().map(pr_map_dict)\n",
    "\n",
    "df_source = df_source.drop(df_source[df_source[\"SV\"] == \"xx\"].index)\n",
    "df_source[\"SD\"].unique(), df_source[\"QE\"].unique(), df_source[\"SV\"].unique(), df_source[\"PR\"].unique()"
   ]
  },
  {
   "cell_type": "code",
   "execution_count": 58,
   "metadata": {},
   "outputs": [
    {
     "data": {
      "text/plain": [
       "Index(['Unnamed: 0', 'Dyad', 'Session', 'Period', 'P1', 'P2', 'Time_begin',\n",
       "       'Time_end', 'Duration', 'SV_Tutor', 'SV_Tutee', 'PR_Tutor', 'PR_Tutee',\n",
       "       'SD_Tutor', 'SD_Tutee', 'SD', 'QE', 'SV', 'PR'],\n",
       "      dtype='object')"
      ]
     },
     "execution_count": 58,
     "metadata": {},
     "output_type": "execute_result"
    }
   ],
   "source": [
    "df_source.columns"
   ]
  },
  {
   "cell_type": "code",
   "execution_count": 61,
   "metadata": {},
   "outputs": [],
   "source": [
    "df_source = df_source[['Time_begin', 'Dyad', 'Session',  'P1', 'P2', 'SD', 'QE', 'SV', 'PR']]"
   ]
  },
  {
   "cell_type": "code",
   "execution_count": 60,
   "metadata": {},
   "outputs": [],
   "source": [
    "df_time = df_time[['Dyad', 'Session', 'Begin Time - hh:mm:ss.ms', 'End Time - hh:mm:ss.ms', 'Duration - hh:mm:ss.ms', 'P1', 'P2']]"
   ]
  },
  {
   "cell_type": "code",
   "execution_count": 65,
   "metadata": {},
   "outputs": [
    {
     "data": {
      "text/plain": [
       "'00:00:12.088'"
      ]
     },
     "execution_count": 65,
     "metadata": {},
     "output_type": "execute_result"
    }
   ],
   "source": [
    "df_time[\"Begin Time - hh:mm:ss.ms\"].iloc[0]"
   ]
  },
  {
   "cell_type": "code",
   "execution_count": 66,
   "metadata": {},
   "outputs": [
    {
     "data": {
      "text/plain": [
       "'00:01.0'"
      ]
     },
     "execution_count": 66,
     "metadata": {},
     "output_type": "execute_result"
    }
   ],
   "source": [
    "df_source[\"Time_begin\"].iloc[0]"
   ]
  },
  {
   "cell_type": "code",
   "execution_count": 8,
   "metadata": {},
   "outputs": [],
   "source": [
    "df_result = df_time.merge(df_source, on = ['Dyad', 'Session', 'P1', 'P2'], how = \"left\")\n",
    "df_result = df_result.drop_duplicates().sort_values(by = ['Dyad', 'Session',  'Begin Time - hh:mm:ss.ms'])\n",
    "df_result = df_result.iloc[:, [0, 1, 2, 3, 4, 5, 6, 7, 8, 9, 10]]"
   ]
  },
  {
   "cell_type": "code",
   "execution_count": null,
   "metadata": {},
   "outputs": [],
   "source": [
    "    # if dyad_ == 11: \n",
    "    #     df_source_fz_ = df_source[(df_source[\"Dyad\"] == dyad_) & (df_source[\"Session\"] == 1)]\n",
    "    #     df_time_fz_ = df_time[(df_time[\"Dyad\"] == dyad_) & (df_time[\"Session\"] == 1)]\n",
    "\n",
    "    #     df_source_fz_ = df_source_fz_[(df_source_fz_[f\"P1\"].notna()) | (df_source_fz_[f\"P2\"].notna())]\n",
    "    #     df_time_fz_ = df_time_fz_[(df_time_fz_[f\"P1\"].notna()) | (df_time_fz_[f\"P2\"].notna())]\n",
    "\n",
    "    #     df_source_fz_[\"P1\"].loc[df_source_fz_[\"P1\"].notna()] = \"1\" + df_source_fz_[\"P1\"]\n",
    "    #     df_source_fz_[\"P2\"].loc[df_source_fz_[\"P2\"].notna()] = \"2\" + df_source_fz_[\"P2\"]\n",
    "\n",
    "    #     df_source_fz_ = df_source_fz_.fillna('')\n",
    "    #     df_source_fz_[\"P\"] = df_source_fz_[\"P1\"] + df_source_fz_[\"P2\"]\n",
    "\n",
    "    #     source_P = df_source_fz_[\"P\"].tolist()\n",
    "    #     source_timestamps = df_source_fz_[\"Time_begin\"] # mm:ss.ms\n",
    "\n",
    "    #     for utt_, ts_ in zip(source_P, source_timestamps):\n",
    "    #         ts_ = pd.to_datetime(ts_, format = \"%M:%S.%f\")\n",
    "    #         curr_df_time_fz_ = df_time_fz_[(df_time_fz_[\"Time_begin_ts\"] < ts_ + pd.Timedelta(seconds=10)) | (df_time_fz_[\"Time_begin_ts\"] > ts_ - pd.Timedelta(seconds=10))]\n",
    "    #         time_P1 = curr_df_time_fz_[\"P1\"].tolist()\n",
    "    #         time_P2 = curr_df_time_fz_[\"P2\"].tolist()\n",
    "    #         if utt_[0] == \"1\":\n",
    "    #             result.append(process.extract(utt_, time_P1, limit = 2))\n",
    "    #         elif utt_[0] == \"2\":\n",
    "    #             result.append(process.extract(utt_, time_P2, limit = 2))"
   ]
  },
  {
   "cell_type": "code",
   "execution_count": 108,
   "metadata": {},
   "outputs": [
    {
     "name": "stderr",
     "output_type": "stream",
     "text": [
      "/var/folders/l7/1yhnrkcx2f79z5dph4rg3h540000gn/T/ipykernel_88544/3697408124.py:20: SettingWithCopyWarning: \n",
      "A value is trying to be set on a copy of a slice from a DataFrame\n",
      "\n",
      "See the caveats in the documentation: https://pandas.pydata.org/pandas-docs/stable/user_guide/indexing.html#returning-a-view-versus-a-copy\n",
      "  df_source_fz_[\"P1\"].loc[df_source_fz_[\"P1\"].notna()] = \"1\" + df_source_fz_[\"P1\"]\n",
      "/var/folders/l7/1yhnrkcx2f79z5dph4rg3h540000gn/T/ipykernel_88544/3697408124.py:21: SettingWithCopyWarning: \n",
      "A value is trying to be set on a copy of a slice from a DataFrame\n",
      "\n",
      "See the caveats in the documentation: https://pandas.pydata.org/pandas-docs/stable/user_guide/indexing.html#returning-a-view-versus-a-copy\n",
      "  df_source_fz_[\"P2\"].loc[df_source_fz_[\"P2\"].notna()] = \"2\" + df_source_fz_[\"P2\"]\n",
      "/var/folders/l7/1yhnrkcx2f79z5dph4rg3h540000gn/T/ipykernel_88544/3697408124.py:20: SettingWithCopyWarning: \n",
      "A value is trying to be set on a copy of a slice from a DataFrame\n",
      "\n",
      "See the caveats in the documentation: https://pandas.pydata.org/pandas-docs/stable/user_guide/indexing.html#returning-a-view-versus-a-copy\n",
      "  df_source_fz_[\"P1\"].loc[df_source_fz_[\"P1\"].notna()] = \"1\" + df_source_fz_[\"P1\"]\n",
      "/var/folders/l7/1yhnrkcx2f79z5dph4rg3h540000gn/T/ipykernel_88544/3697408124.py:21: SettingWithCopyWarning: \n",
      "A value is trying to be set on a copy of a slice from a DataFrame\n",
      "\n",
      "See the caveats in the documentation: https://pandas.pydata.org/pandas-docs/stable/user_guide/indexing.html#returning-a-view-versus-a-copy\n",
      "  df_source_fz_[\"P2\"].loc[df_source_fz_[\"P2\"].notna()] = \"2\" + df_source_fz_[\"P2\"]\n",
      "/var/folders/l7/1yhnrkcx2f79z5dph4rg3h540000gn/T/ipykernel_88544/3697408124.py:20: SettingWithCopyWarning: \n",
      "A value is trying to be set on a copy of a slice from a DataFrame\n",
      "\n",
      "See the caveats in the documentation: https://pandas.pydata.org/pandas-docs/stable/user_guide/indexing.html#returning-a-view-versus-a-copy\n",
      "  df_source_fz_[\"P1\"].loc[df_source_fz_[\"P1\"].notna()] = \"1\" + df_source_fz_[\"P1\"]\n",
      "/var/folders/l7/1yhnrkcx2f79z5dph4rg3h540000gn/T/ipykernel_88544/3697408124.py:21: SettingWithCopyWarning: \n",
      "A value is trying to be set on a copy of a slice from a DataFrame\n",
      "\n",
      "See the caveats in the documentation: https://pandas.pydata.org/pandas-docs/stable/user_guide/indexing.html#returning-a-view-versus-a-copy\n",
      "  df_source_fz_[\"P2\"].loc[df_source_fz_[\"P2\"].notna()] = \"2\" + df_source_fz_[\"P2\"]\n",
      "/var/folders/l7/1yhnrkcx2f79z5dph4rg3h540000gn/T/ipykernel_88544/3697408124.py:20: SettingWithCopyWarning: \n",
      "A value is trying to be set on a copy of a slice from a DataFrame\n",
      "\n",
      "See the caveats in the documentation: https://pandas.pydata.org/pandas-docs/stable/user_guide/indexing.html#returning-a-view-versus-a-copy\n",
      "  df_source_fz_[\"P1\"].loc[df_source_fz_[\"P1\"].notna()] = \"1\" + df_source_fz_[\"P1\"]\n",
      "/var/folders/l7/1yhnrkcx2f79z5dph4rg3h540000gn/T/ipykernel_88544/3697408124.py:21: SettingWithCopyWarning: \n",
      "A value is trying to be set on a copy of a slice from a DataFrame\n",
      "\n",
      "See the caveats in the documentation: https://pandas.pydata.org/pandas-docs/stable/user_guide/indexing.html#returning-a-view-versus-a-copy\n",
      "  df_source_fz_[\"P2\"].loc[df_source_fz_[\"P2\"].notna()] = \"2\" + df_source_fz_[\"P2\"]\n",
      "/var/folders/l7/1yhnrkcx2f79z5dph4rg3h540000gn/T/ipykernel_88544/3697408124.py:20: SettingWithCopyWarning: \n",
      "A value is trying to be set on a copy of a slice from a DataFrame\n",
      "\n",
      "See the caveats in the documentation: https://pandas.pydata.org/pandas-docs/stable/user_guide/indexing.html#returning-a-view-versus-a-copy\n",
      "  df_source_fz_[\"P1\"].loc[df_source_fz_[\"P1\"].notna()] = \"1\" + df_source_fz_[\"P1\"]\n",
      "/var/folders/l7/1yhnrkcx2f79z5dph4rg3h540000gn/T/ipykernel_88544/3697408124.py:21: SettingWithCopyWarning: \n",
      "A value is trying to be set on a copy of a slice from a DataFrame\n",
      "\n",
      "See the caveats in the documentation: https://pandas.pydata.org/pandas-docs/stable/user_guide/indexing.html#returning-a-view-versus-a-copy\n",
      "  df_source_fz_[\"P2\"].loc[df_source_fz_[\"P2\"].notna()] = \"2\" + df_source_fz_[\"P2\"]\n",
      "/var/folders/l7/1yhnrkcx2f79z5dph4rg3h540000gn/T/ipykernel_88544/3697408124.py:20: SettingWithCopyWarning: \n",
      "A value is trying to be set on a copy of a slice from a DataFrame\n",
      "\n",
      "See the caveats in the documentation: https://pandas.pydata.org/pandas-docs/stable/user_guide/indexing.html#returning-a-view-versus-a-copy\n",
      "  df_source_fz_[\"P1\"].loc[df_source_fz_[\"P1\"].notna()] = \"1\" + df_source_fz_[\"P1\"]\n",
      "/var/folders/l7/1yhnrkcx2f79z5dph4rg3h540000gn/T/ipykernel_88544/3697408124.py:21: SettingWithCopyWarning: \n",
      "A value is trying to be set on a copy of a slice from a DataFrame\n",
      "\n",
      "See the caveats in the documentation: https://pandas.pydata.org/pandas-docs/stable/user_guide/indexing.html#returning-a-view-versus-a-copy\n",
      "  df_source_fz_[\"P2\"].loc[df_source_fz_[\"P2\"].notna()] = \"2\" + df_source_fz_[\"P2\"]\n",
      "/var/folders/l7/1yhnrkcx2f79z5dph4rg3h540000gn/T/ipykernel_88544/3697408124.py:20: SettingWithCopyWarning: \n",
      "A value is trying to be set on a copy of a slice from a DataFrame\n",
      "\n",
      "See the caveats in the documentation: https://pandas.pydata.org/pandas-docs/stable/user_guide/indexing.html#returning-a-view-versus-a-copy\n",
      "  df_source_fz_[\"P1\"].loc[df_source_fz_[\"P1\"].notna()] = \"1\" + df_source_fz_[\"P1\"]\n",
      "/var/folders/l7/1yhnrkcx2f79z5dph4rg3h540000gn/T/ipykernel_88544/3697408124.py:21: SettingWithCopyWarning: \n",
      "A value is trying to be set on a copy of a slice from a DataFrame\n",
      "\n",
      "See the caveats in the documentation: https://pandas.pydata.org/pandas-docs/stable/user_guide/indexing.html#returning-a-view-versus-a-copy\n",
      "  df_source_fz_[\"P2\"].loc[df_source_fz_[\"P2\"].notna()] = \"2\" + df_source_fz_[\"P2\"]\n",
      "/var/folders/l7/1yhnrkcx2f79z5dph4rg3h540000gn/T/ipykernel_88544/3697408124.py:20: SettingWithCopyWarning: \n",
      "A value is trying to be set on a copy of a slice from a DataFrame\n",
      "\n",
      "See the caveats in the documentation: https://pandas.pydata.org/pandas-docs/stable/user_guide/indexing.html#returning-a-view-versus-a-copy\n",
      "  df_source_fz_[\"P1\"].loc[df_source_fz_[\"P1\"].notna()] = \"1\" + df_source_fz_[\"P1\"]\n",
      "/var/folders/l7/1yhnrkcx2f79z5dph4rg3h540000gn/T/ipykernel_88544/3697408124.py:21: SettingWithCopyWarning: \n",
      "A value is trying to be set on a copy of a slice from a DataFrame\n",
      "\n",
      "See the caveats in the documentation: https://pandas.pydata.org/pandas-docs/stable/user_guide/indexing.html#returning-a-view-versus-a-copy\n",
      "  df_source_fz_[\"P2\"].loc[df_source_fz_[\"P2\"].notna()] = \"2\" + df_source_fz_[\"P2\"]\n",
      "/var/folders/l7/1yhnrkcx2f79z5dph4rg3h540000gn/T/ipykernel_88544/3697408124.py:20: SettingWithCopyWarning: \n",
      "A value is trying to be set on a copy of a slice from a DataFrame\n",
      "\n",
      "See the caveats in the documentation: https://pandas.pydata.org/pandas-docs/stable/user_guide/indexing.html#returning-a-view-versus-a-copy\n",
      "  df_source_fz_[\"P1\"].loc[df_source_fz_[\"P1\"].notna()] = \"1\" + df_source_fz_[\"P1\"]\n",
      "/var/folders/l7/1yhnrkcx2f79z5dph4rg3h540000gn/T/ipykernel_88544/3697408124.py:21: SettingWithCopyWarning: \n",
      "A value is trying to be set on a copy of a slice from a DataFrame\n",
      "\n",
      "See the caveats in the documentation: https://pandas.pydata.org/pandas-docs/stable/user_guide/indexing.html#returning-a-view-versus-a-copy\n",
      "  df_source_fz_[\"P2\"].loc[df_source_fz_[\"P2\"].notna()] = \"2\" + df_source_fz_[\"P2\"]\n",
      "/var/folders/l7/1yhnrkcx2f79z5dph4rg3h540000gn/T/ipykernel_88544/3697408124.py:20: SettingWithCopyWarning: \n",
      "A value is trying to be set on a copy of a slice from a DataFrame\n",
      "\n",
      "See the caveats in the documentation: https://pandas.pydata.org/pandas-docs/stable/user_guide/indexing.html#returning-a-view-versus-a-copy\n",
      "  df_source_fz_[\"P1\"].loc[df_source_fz_[\"P1\"].notna()] = \"1\" + df_source_fz_[\"P1\"]\n",
      "/var/folders/l7/1yhnrkcx2f79z5dph4rg3h540000gn/T/ipykernel_88544/3697408124.py:21: SettingWithCopyWarning: \n",
      "A value is trying to be set on a copy of a slice from a DataFrame\n",
      "\n",
      "See the caveats in the documentation: https://pandas.pydata.org/pandas-docs/stable/user_guide/indexing.html#returning-a-view-versus-a-copy\n",
      "  df_source_fz_[\"P2\"].loc[df_source_fz_[\"P2\"].notna()] = \"2\" + df_source_fz_[\"P2\"]\n",
      "/var/folders/l7/1yhnrkcx2f79z5dph4rg3h540000gn/T/ipykernel_88544/3697408124.py:20: SettingWithCopyWarning: \n",
      "A value is trying to be set on a copy of a slice from a DataFrame\n",
      "\n",
      "See the caveats in the documentation: https://pandas.pydata.org/pandas-docs/stable/user_guide/indexing.html#returning-a-view-versus-a-copy\n",
      "  df_source_fz_[\"P1\"].loc[df_source_fz_[\"P1\"].notna()] = \"1\" + df_source_fz_[\"P1\"]\n",
      "/var/folders/l7/1yhnrkcx2f79z5dph4rg3h540000gn/T/ipykernel_88544/3697408124.py:21: SettingWithCopyWarning: \n",
      "A value is trying to be set on a copy of a slice from a DataFrame\n",
      "\n",
      "See the caveats in the documentation: https://pandas.pydata.org/pandas-docs/stable/user_guide/indexing.html#returning-a-view-versus-a-copy\n",
      "  df_source_fz_[\"P2\"].loc[df_source_fz_[\"P2\"].notna()] = \"2\" + df_source_fz_[\"P2\"]\n",
      "/var/folders/l7/1yhnrkcx2f79z5dph4rg3h540000gn/T/ipykernel_88544/3697408124.py:20: SettingWithCopyWarning: \n",
      "A value is trying to be set on a copy of a slice from a DataFrame\n",
      "\n",
      "See the caveats in the documentation: https://pandas.pydata.org/pandas-docs/stable/user_guide/indexing.html#returning-a-view-versus-a-copy\n",
      "  df_source_fz_[\"P1\"].loc[df_source_fz_[\"P1\"].notna()] = \"1\" + df_source_fz_[\"P1\"]\n",
      "/var/folders/l7/1yhnrkcx2f79z5dph4rg3h540000gn/T/ipykernel_88544/3697408124.py:21: SettingWithCopyWarning: \n",
      "A value is trying to be set on a copy of a slice from a DataFrame\n",
      "\n",
      "See the caveats in the documentation: https://pandas.pydata.org/pandas-docs/stable/user_guide/indexing.html#returning-a-view-versus-a-copy\n",
      "  df_source_fz_[\"P2\"].loc[df_source_fz_[\"P2\"].notna()] = \"2\" + df_source_fz_[\"P2\"]\n",
      "/var/folders/l7/1yhnrkcx2f79z5dph4rg3h540000gn/T/ipykernel_88544/3697408124.py:20: SettingWithCopyWarning: \n",
      "A value is trying to be set on a copy of a slice from a DataFrame\n",
      "\n",
      "See the caveats in the documentation: https://pandas.pydata.org/pandas-docs/stable/user_guide/indexing.html#returning-a-view-versus-a-copy\n",
      "  df_source_fz_[\"P1\"].loc[df_source_fz_[\"P1\"].notna()] = \"1\" + df_source_fz_[\"P1\"]\n",
      "/var/folders/l7/1yhnrkcx2f79z5dph4rg3h540000gn/T/ipykernel_88544/3697408124.py:21: SettingWithCopyWarning: \n",
      "A value is trying to be set on a copy of a slice from a DataFrame\n",
      "\n",
      "See the caveats in the documentation: https://pandas.pydata.org/pandas-docs/stable/user_guide/indexing.html#returning-a-view-versus-a-copy\n",
      "  df_source_fz_[\"P2\"].loc[df_source_fz_[\"P2\"].notna()] = \"2\" + df_source_fz_[\"P2\"]\n"
     ]
    }
   ],
   "source": [
    "from fuzzywuzzy import fuzz, process\n",
    "\n",
    "result = []\n",
    "\n",
    "dyad_list = [3,4,5,6,7,8,10]\n",
    "session_list = [1,2]\n",
    "# person_list = [1, 2]\n",
    "threshold = 10\n",
    "\n",
    "df_source = df_source[(df_source[\"P1\"].notna()) ^ (df_source[\"P2\"].notna())]\n",
    "\n",
    "for dyad_ in dyad_list:\n",
    "    for session_ in session_list:\n",
    "        df_source_fz_ = df_source[(df_source[\"Dyad\"] == dyad_) & (df_source[\"Session\"] == session_)]\n",
    "        df_time_fz_ = df_time[(df_time[\"Dyad\"] == dyad_) & (df_time[\"Session\"] == session_)]\n",
    "\n",
    "        df_source_fz_ = df_source_fz_[(df_source_fz_[f\"P1\"].notna()) | (df_source_fz_[f\"P2\"].notna())]\n",
    "        df_time_fz_ = df_time_fz_[(df_time_fz_[f\"P1\"].notna()) | (df_time_fz_[f\"P2\"].notna())]\n",
    "\n",
    "        df_source_fz_[\"P1\"].loc[df_source_fz_[\"P1\"].notna()] = \"1\" + df_source_fz_[\"P1\"]\n",
    "        df_source_fz_[\"P2\"].loc[df_source_fz_[\"P2\"].notna()] = \"2\" + df_source_fz_[\"P2\"]\n",
    "\n",
    "        df_source_fz_ = df_source_fz_.fillna('')\n",
    "        df_source_fz_[\"P\"] = df_source_fz_[\"P1\"] + df_source_fz_[\"P2\"]\n",
    "\n",
    "        source_P = df_source_fz_[\"P\"].tolist()\n",
    "        source_timestamps = df_source_fz_[\"Time_begin\"] # mm:ss.ms\n",
    "\n",
    "        for utt_, ts_ in zip(source_P, source_timestamps):\n",
    "            ts_ = pd.to_datetime(ts_, format = \"%M:%S.%f\")\n",
    "            curr_df_time_fz_ = df_time_fz_[(df_time_fz_[\"Time_begin_ts\"] < ts_ + pd.Timedelta(seconds=10)) | (df_time_fz_[\"Time_begin_ts\"] > ts_ - pd.Timedelta(seconds=10))]\n",
    "            time_P1 = curr_df_time_fz_[\"P1\"].tolist()\n",
    "            time_P2 = curr_df_time_fz_[\"P2\"].tolist()\n",
    "            if utt_[0] == \"1\":\n",
    "                result.append(process.extract(utt_[1:], time_P1, limit = 2))\n",
    "            elif utt_[0] == \"2\":\n",
    "                result.append(process.extract(utt_[1:], time_P2, limit = 2))\n",
    "\n",
    "            # df_source.loc[((df_source[\"Dyad\"] == dyad_) & (df_source[\"Session\"] == session_) & (df_source[\"P1\"].notna()))]['match'] = result\n",
    "\n",
    "df_source_result = df_source[((df_source[\"P1\"].notna()) ^ (df_source[\"P2\"].notna())) & (df_source[\"Dyad\"].isin(dyad_list)) & (df_source[\"Session\"].isin(session_list))]\n",
    "df_source_result[\"Match\"] = result\n",
    "# df_source_fz = df_source[df_source[\"P1\"].notna()]\n",
    "# df_time_fz = df_source[df_source[\"P1\"].notna()]\n",
    "\n",
    "# source_P1 = df_source_fz[\"P1\"].tolist()\n",
    "# time_P1 = df_time_fz[\"P1\"].tolist()\n",
    "\n",
    "# threshold = 60\n",
    "\n",
    "# result = []\n",
    "\n",
    "# for utt in source_P1:\n",
    "#     result.append(process.extract(utt, time_P1, limit = 3))"
   ]
  },
  {
   "cell_type": "code",
   "execution_count": 105,
   "metadata": {},
   "outputs": [],
   "source": [
    "df_source_result.to_csv(\"fuzzy_test.csv\")"
   ]
  },
  {
   "cell_type": "code",
   "execution_count": 12,
   "metadata": {},
   "outputs": [
    {
     "ename": "TypeError",
     "evalue": "can only concatenate str (not \"NoneType\") to str",
     "output_type": "error",
     "traceback": [
      "\u001b[0;31m---------------------------------------------------------------------------\u001b[0m",
      "\u001b[0;31mTypeError\u001b[0m                                 Traceback (most recent call last)",
      "Cell \u001b[0;32mIn [12], line 2\u001b[0m\n\u001b[1;32m      1\u001b[0m \u001b[38;5;28;01mimport\u001b[39;00m \u001b[38;5;21;01mfuzzy_pandas\u001b[39;00m \u001b[38;5;28;01mas\u001b[39;00m \u001b[38;5;21;01mfpd\u001b[39;00m \n\u001b[0;32m----> 2\u001b[0m df_test \u001b[38;5;241m=\u001b[39m \u001b[43mfpd\u001b[49m\u001b[38;5;241;43m.\u001b[39;49m\u001b[43mfuzzy_merge\u001b[49m\u001b[43m(\u001b[49m\u001b[43mdf_time\u001b[49m\u001b[43m,\u001b[49m\u001b[43m \u001b[49m\u001b[43mdf_source\u001b[49m\u001b[43m,\u001b[49m\n\u001b[1;32m      3\u001b[0m \u001b[43m                \u001b[49m\u001b[43mleft_on\u001b[49m\u001b[38;5;241;43m=\u001b[39;49m\u001b[43m[\u001b[49m\u001b[38;5;124;43m'\u001b[39;49m\u001b[38;5;124;43mDyad\u001b[39;49m\u001b[38;5;124;43m'\u001b[39;49m\u001b[43m,\u001b[49m\u001b[43m \u001b[49m\u001b[38;5;124;43m'\u001b[39;49m\u001b[38;5;124;43mSession\u001b[39;49m\u001b[38;5;124;43m'\u001b[39;49m\u001b[43m,\u001b[49m\u001b[43m \u001b[49m\u001b[38;5;124;43m'\u001b[39;49m\u001b[38;5;124;43mP1\u001b[39;49m\u001b[38;5;124;43m'\u001b[39;49m\u001b[43m,\u001b[49m\u001b[43m \u001b[49m\u001b[38;5;124;43m'\u001b[39;49m\u001b[38;5;124;43mP2\u001b[39;49m\u001b[38;5;124;43m'\u001b[39;49m\u001b[43m]\u001b[49m\u001b[43m,\u001b[49m\n\u001b[1;32m      4\u001b[0m \u001b[43m                \u001b[49m\u001b[43mignore_case\u001b[49m\u001b[38;5;241;43m=\u001b[39;49m\u001b[38;5;28;43;01mTrue\u001b[39;49;00m\u001b[43m,\u001b[49m\n\u001b[1;32m      5\u001b[0m \u001b[43m                \u001b[49m\u001b[43mkeep\u001b[49m\u001b[38;5;241;43m=\u001b[39;49m\u001b[38;5;124;43m'\u001b[39;49m\u001b[38;5;124;43mmatch\u001b[39;49m\u001b[38;5;124;43m'\u001b[39;49m\u001b[43m)\u001b[49m\n",
      "File \u001b[0;32m/usr/local/anaconda3/envs/multi-modal-csc/lib/python3.10/site-packages/fuzzy_pandas/fuzzy_merge.py:116\u001b[0m, in \u001b[0;36mfuzzy_merge\u001b[0;34m(df1, df2, on, left_on, right_on, keep, keep_left, keep_right, method, threshold, **kwargs)\u001b[0m\n\u001b[1;32m    114\u001b[0m output \u001b[38;5;241m=\u001b[39m []\n\u001b[1;32m    115\u001b[0m output\u001b[38;5;241m.\u001b[39mextend([\u001b[38;5;124m'\u001b[39m\u001b[38;5;124m1.\u001b[39m\u001b[38;5;124m'\u001b[39m \u001b[38;5;241m+\u001b[39m col \u001b[38;5;28;01mfor\u001b[39;00m col \u001b[38;5;129;01min\u001b[39;00m (keep_left \u001b[38;5;129;01mor\u001b[39;00m left_on)])\n\u001b[0;32m--> 116\u001b[0m output\u001b[38;5;241m.\u001b[39mextend([\u001b[38;5;124m'\u001b[39m\u001b[38;5;124m2.\u001b[39m\u001b[38;5;124m'\u001b[39m \u001b[38;5;241m+\u001b[39m col \u001b[38;5;28;01mfor\u001b[39;00m col \u001b[38;5;129;01min\u001b[39;00m (keep_right \u001b[38;5;129;01mor\u001b[39;00m right_on)])\n\u001b[1;32m    118\u001b[0m \u001b[38;5;28;01mif\u001b[39;00m \u001b[38;5;129;01mnot\u001b[39;00m \u001b[38;5;28misinstance\u001b[39m(method, \u001b[38;5;28mlist\u001b[39m):\n\u001b[1;32m    119\u001b[0m     method \u001b[38;5;241m=\u001b[39m [method]\n",
      "File \u001b[0;32m/usr/local/anaconda3/envs/multi-modal-csc/lib/python3.10/site-packages/fuzzy_pandas/fuzzy_merge.py:116\u001b[0m, in \u001b[0;36m<listcomp>\u001b[0;34m(.0)\u001b[0m\n\u001b[1;32m    114\u001b[0m output \u001b[38;5;241m=\u001b[39m []\n\u001b[1;32m    115\u001b[0m output\u001b[38;5;241m.\u001b[39mextend([\u001b[38;5;124m'\u001b[39m\u001b[38;5;124m1.\u001b[39m\u001b[38;5;124m'\u001b[39m \u001b[38;5;241m+\u001b[39m col \u001b[38;5;28;01mfor\u001b[39;00m col \u001b[38;5;129;01min\u001b[39;00m (keep_left \u001b[38;5;129;01mor\u001b[39;00m left_on)])\n\u001b[0;32m--> 116\u001b[0m output\u001b[38;5;241m.\u001b[39mextend([\u001b[38;5;124;43m'\u001b[39;49m\u001b[38;5;124;43m2.\u001b[39;49m\u001b[38;5;124;43m'\u001b[39;49m\u001b[43m \u001b[49m\u001b[38;5;241;43m+\u001b[39;49m\u001b[43m \u001b[49m\u001b[43mcol\u001b[49m \u001b[38;5;28;01mfor\u001b[39;00m col \u001b[38;5;129;01min\u001b[39;00m (keep_right \u001b[38;5;129;01mor\u001b[39;00m right_on)])\n\u001b[1;32m    118\u001b[0m \u001b[38;5;28;01mif\u001b[39;00m \u001b[38;5;129;01mnot\u001b[39;00m \u001b[38;5;28misinstance\u001b[39m(method, \u001b[38;5;28mlist\u001b[39m):\n\u001b[1;32m    119\u001b[0m     method \u001b[38;5;241m=\u001b[39m [method]\n",
      "\u001b[0;31mTypeError\u001b[0m: can only concatenate str (not \"NoneType\") to str"
     ]
    }
   ],
   "source": [
    "import fuzzy_pandas as fpd \n",
    "df_test = fpd.fuzzy_merge(df_time, df_source,\n",
    "                left_on=['Dyad', 'Session', 'P1', 'P2'],\n",
    "                ignore_case=True,\n",
    "                keep='match')"
   ]
  },
  {
   "cell_type": "code",
   "execution_count": 226,
   "metadata": {},
   "outputs": [],
   "source": [
    "df_result.to_csv(\"test1.csv\")"
   ]
  },
  {
   "cell_type": "code",
   "execution_count": 232,
   "metadata": {},
   "outputs": [
    {
     "name": "stdout",
     "output_type": "stream",
     "text": [
      "Number of SD in result df : 334\n",
      "Number of SD in source df : 738\n",
      "Number of QE in result df : 76\n",
      "Number of QE in source df : 163\n",
      "Number of PR in result df : 54\n",
      "Number of PR in source df : 114\n",
      "Number of SV in result df : 1246\n",
      "Number of SV in source df : 1471\n"
     ]
    }
   ],
   "source": [
    "for label in [\"SD\", \"QE\", \"PR\", \"SV\"]:\n",
    "    n_result = len(df_result[df_result[label].notna()])\n",
    "    n_source = len(df_source[df_source[label].notna()])\n",
    "    print(f\"Number of {label} in result df : {n_result}\")\n",
    "    print(f\"Number of {label} in source df : {n_source}\")"
   ]
  },
  {
   "cell_type": "code",
   "execution_count": 227,
   "metadata": {},
   "outputs": [
    {
     "ename": "SyntaxError",
     "evalue": "invalid syntax (721831928.py, line 16)",
     "output_type": "error",
     "traceback": [
      "\u001b[0;36m  Cell \u001b[0;32mIn [227], line 16\u001b[0;36m\u001b[0m\n\u001b[0;31m    ['ratio', 'token'])``\u001b[0m\n\u001b[0m                       ^\u001b[0m\n\u001b[0;31mSyntaxError\u001b[0m\u001b[0;31m:\u001b[0m invalid syntax\n"
     ]
    }
   ],
   "source": [
    "# from fuzzywuzzy import fuzz\n",
    "# from fuzzywuzzy import process\n",
    "\n",
    "# compare_P1 = pd.MultiIndex.from_product([df_source['P1'], df_target['P1']]).to_series()\n",
    "# compare_P2 = pd.MultiIndex.from_product([df_source['P2'], df_target['P2']]).to_series()\n",
    "# compare_D = pd.MultiIndex.from_product([df_source['D'], df_target['D']]).to_series()\n",
    "# compare_S = pd.MultiIndex.from_product([df_source['S'], df_target['S']]).to_series()\n",
    "# compare_S = pd.MultiIndex.from_product([df_source['P1'], df_target['P1']]).to_series()\n",
    "# compare_S = pd.MultiIndex.from_product([df_source['P1'], df_target['P1']]).to_series()\n",
    "\n",
    "# comparisons = [compare_P1, compare_P2, compare_D, compare_S]\n",
    "\n",
    "# def metrics(tup):\n",
    "#     return pd.Series([fuzz.ratio(*tup),\n",
    "#                       fuzz.token_sort_ratio(*tup)],\n",
    "#                      ['ratio', 'token'])``\n",
    "\n",
    "# for comp_ in comparisons:\n",
    "#     comp_.apply(metrics)\n",
    "#     comp_.apply(metrics).unstack().idxmax().unstack(0)\n",
    "#     comp_.apply(metrics).unstack(0).idxmax().unstack(0)"
   ]
  },
  {
   "cell_type": "code",
   "execution_count": null,
   "metadata": {},
   "outputs": [],
   "source": []
  },
  {
   "cell_type": "code",
   "execution_count": null,
   "metadata": {},
   "outputs": [],
   "source": []
  }
 ],
 "metadata": {
  "interpreter": {
   "hash": "a14988f2c8ab5e88cecfa395a5465dfc3038372d0630124ed2d8fb1e7f5e5a63"
  },
  "kernelspec": {
   "display_name": "Python 3.10.0 ('multi-modal-csc')",
   "language": "python",
   "name": "python3"
  },
  "language_info": {
   "codemirror_mode": {
    "name": "ipython",
    "version": 3
   },
   "file_extension": ".py",
   "mimetype": "text/x-python",
   "name": "python",
   "nbconvert_exporter": "python",
   "pygments_lexer": "ipython3",
   "version": "3.10.0"
  },
  "orig_nbformat": 4
 },
 "nbformat": 4,
 "nbformat_minor": 2
}
