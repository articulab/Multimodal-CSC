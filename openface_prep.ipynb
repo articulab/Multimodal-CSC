{
 "cells": [
  {
   "cell_type": "code",
   "execution_count": 9,
   "metadata": {},
   "outputs": [],
   "source": [
    "import numpy as np\n",
    "import pandas as pd\n",
    "import matplotlib.pyplot as plt\n",
    "\n",
    "import torch\n",
    "import torch.nn as nn\n",
    "import torch.optim as optim\n",
    "from torch.utils.data import TensorDataset, DataLoader, Dataset\n",
    "\n",
    "path1 = \"data/final/openface/openface_speaker_1_05_by_05\"\n",
    "path2 = \"data/final/openface/openface_speaker_2_05_by_05\"\n",
    "\n",
    "open1 = pd.read_feather(path1)\n",
    "open2 = pd.read_feather(path2)\n",
    "\n",
    "class BatchDataset(Dataset):\n",
    "    def __init__(self, X,Y):\n",
    "        self.X = X\n",
    "        self.Y = Y\n",
    "    def __len__(self):\n",
    "        return self.X.shape[0]-6\n",
    "    \n",
    "    def __getitem__(self,idx):\n",
    "        return self.X[idx:idx+6,:], self.Y[idx:idx+6,:]"
   ]
  },
  {
   "cell_type": "code",
   "execution_count": 10,
   "metadata": {},
   "outputs": [],
   "source": [
    "Xt = np.concatenate((open1.iloc[:,3:].values,open2.iloc[:,3:].values))\n",
    "X,Y = Xt[:-6,:],Xt[6:,:]"
   ]
  },
  {
   "cell_type": "code",
   "execution_count": null,
   "metadata": {},
   "outputs": [],
   "source": []
  }
 ],
 "metadata": {
  "kernelspec": {
   "display_name": "projet_ewen",
   "language": "python",
   "name": "python3"
  },
  "language_info": {
   "codemirror_mode": {
    "name": "ipython",
    "version": 3
   },
   "file_extension": ".py",
   "mimetype": "text/x-python",
   "name": "python",
   "nbconvert_exporter": "python",
   "pygments_lexer": "ipython3",
   "version": "3.10.8"
  },
  "orig_nbformat": 4,
  "vscode": {
   "interpreter": {
    "hash": "443553a8d873c13169fd000a429b31bc1f64e807d9cb579432974010f58ecf64"
   }
  }
 },
 "nbformat": 4,
 "nbformat_minor": 2
}
